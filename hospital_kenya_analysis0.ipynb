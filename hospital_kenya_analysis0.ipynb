{
  "nbformat": 4,
  "nbformat_minor": 0,
  "metadata": {
    "colab": {
      "name": "hospital kenya analysis0.ipynb",
      "provenance": [],
      "toc_visible": true,
      "include_colab_link": true
    },
    "kernelspec": {
      "name": "python3",
      "display_name": "Python 3"
    }
  },
  "cells": [
    {
      "cell_type": "markdown",
      "metadata": {
        "id": "view-in-github",
        "colab_type": "text"
      },
      "source": [
        "<a href=\"https://colab.research.google.com/github/kyalo-b/data-analytic-projcets/blob/main/hospital_kenya_analysis0.ipynb\" target=\"_parent\"><img src=\"https://colab.research.google.com/assets/colab-badge.svg\" alt=\"Open In Colab\"/></a>"
      ]
    },
    {
      "cell_type": "markdown",
      "metadata": {
        "id": "k6MxZQMicUqs"
      },
      "source": [
        "# Introduction\n",
        "The first case of Corona virus in Kenya was announced in March. The government in line with the WHO gave guidelines for county hospitals to have covid bed in readiness for the pandemic."
      ]
    },
    {
      "cell_type": "markdown",
      "metadata": {
        "id": "Ix_d0nFhcdUU"
      },
      "source": [
        "# Objective\n",
        "To find out how well prepared the counties are in the fight against corona virus"
      ]
    },
    {
      "cell_type": "markdown",
      "metadata": {
        "id": "_1Z4rbxOV10B"
      },
      "source": [
        "# importing libraries"
      ]
    },
    {
      "cell_type": "code",
      "metadata": {
        "id": "bSMLUgpOW0pe"
      },
      "source": [
        "import pandas as pd\n",
        "import numpy as np"
      ],
      "execution_count": null,
      "outputs": []
    },
    {
      "cell_type": "markdown",
      "metadata": {
        "id": "_SJ7cle8cvSK"
      },
      "source": [
        "# Loading the dataset"
      ]
    },
    {
      "cell_type": "code",
      "metadata": {
        "id": "iKOAxziMV1Ae"
      },
      "source": [
        "covid_data=pd.read_csv('/content/cfafrica-_-data-team-_-outbreak-_-covid19-_-data-_-openafrica-uploads-_-kenya-hospital-ke.csv')\n",
        "#population=pd.read_csv('/content/2019-population_census-report-per-county.csv')\n"
      ],
      "execution_count": null,
      "outputs": []
    },
    {
      "cell_type": "code",
      "metadata": {
        "id": "eYuw8XwxtX5d"
      },
      "source": [
        "covid=pd.read_excel('/content/number-of-icu-beds-per-county.xlsx')\n",
        "covid"
      ],
      "execution_count": null,
      "outputs": []
    },
    {
      "cell_type": "code",
      "metadata": {
        "id": "xtY3DAN_KuzR"
      },
      "source": [
        "ICU=pd.read_excel('/content/Counties ICU.xlsx')"
      ],
      "execution_count": null,
      "outputs": []
    },
    {
      "cell_type": "markdown",
      "metadata": {
        "id": "PpCF0DHBc0vx"
      },
      "source": [
        "# Previewing the dataset"
      ]
    },
    {
      "cell_type": "code",
      "metadata": {
        "id": "vfBqfLlFVwI-"
      },
      "source": [
        "covid_data.head(10)"
      ],
      "execution_count": null,
      "outputs": []
    },
    {
      "cell_type": "code",
      "metadata": {
        "id": "MdIy-an5XYLP"
      },
      "source": [
        "#CHECK DATATYPES FOR EACH COLUMN"
      ],
      "execution_count": null,
      "outputs": []
    },
    {
      "cell_type": "code",
      "metadata": {
        "id": "AmAgxFY0ZEYZ"
      },
      "source": [
        "covid_data.columns"
      ],
      "execution_count": null,
      "outputs": []
    },
    {
      "cell_type": "markdown",
      "metadata": {
        "id": "MqkoMYnadAO2"
      },
      "source": [
        "# Accessing info about the dataset"
      ]
    },
    {
      "cell_type": "code",
      "metadata": {
        "id": "HoFIa5n9XICa"
      },
      "source": [
        "covid_data.dtypes"
      ],
      "execution_count": null,
      "outputs": []
    },
    {
      "cell_type": "code",
      "metadata": {
        "id": "HKJJEOfedRrp"
      },
      "source": [
        "#dataset shape\n",
        "covid_data.shape"
      ],
      "execution_count": null,
      "outputs": []
    },
    {
      "cell_type": "markdown",
      "metadata": {
        "id": "6MTfZ5andzEK"
      },
      "source": [
        "# Data Cleaning"
      ]
    },
    {
      "cell_type": "markdown",
      "metadata": {
        "id": "jdm5i0-Dd70k"
      },
      "source": [
        "checking for nulls"
      ]
    },
    {
      "cell_type": "code",
      "metadata": {
        "id": "lKdIXYDeXhdS"
      },
      "source": [
        "covid_data.isnull().sum()"
      ],
      "execution_count": null,
      "outputs": []
    },
    {
      "cell_type": "markdown",
      "metadata": {
        "id": "tIT8tyACeWkT"
      },
      "source": [
        "checking for consistency"
      ]
    },
    {
      "cell_type": "code",
      "metadata": {
        "id": "2xSHG9FlX20D"
      },
      "source": [
        "# checking for duplicates\n",
        "covid_data.duplicated().sum()\n",
        "# dropping duolicates\n",
        "covid_data.drop\n"
      ],
      "execution_count": null,
      "outputs": []
    },
    {
      "cell_type": "markdown",
      "metadata": {
        "id": "rQytexW4feZH"
      },
      "source": [
        "renaming columns"
      ]
    },
    {
      "cell_type": "code",
      "metadata": {
        "id": "QVDk8dflck7C"
      },
      "source": [
        "covid_data.rename(columns={'Owner type' :'Ownertype','Beds and Cots':'Beds_Cots'},inplace=True)\n"
      ],
      "execution_count": null,
      "outputs": []
    },
    {
      "cell_type": "code",
      "metadata": {
        "id": "oKcJOTr2QWHp"
      },
      "source": [
        "covid_data.rename(columns={'Keph level' :'keph_level'},inplace=True)\n"
      ],
      "execution_count": null,
      "outputs": []
    },
    {
      "cell_type": "code",
      "metadata": {
        "id": "Jf7w38QzynTt"
      },
      "source": [
        "covid"
      ],
      "execution_count": null,
      "outputs": []
    },
    {
      "cell_type": "markdown",
      "metadata": {
        "id": "JZrZrnMffrWd"
      },
      "source": [
        "checking for validity"
      ]
    },
    {
      "cell_type": "code",
      "metadata": {
        "id": "g-ClCCvCaMt8"
      },
      "source": [
        "#dropping columns that we wont use\n",
        "covid_data.drop(['Registration_number','Code','Ward','Service_names'],axis=1,inplace=True)"
      ],
      "execution_count": null,
      "outputs": []
    },
    {
      "cell_type": "code",
      "metadata": {
        "id": "BgkEr9zHNmyj"
      },
      "source": [
        "population1=population[['County','Total_Population19']]"
      ],
      "execution_count": null,
      "outputs": []
    },
    {
      "cell_type": "code",
      "metadata": {
        "id": "9Nos2X-Ja3CY"
      },
      "source": [
        "covid_data.drop(['Name','Public visible'],axis=1,inplace=True)"
      ],
      "execution_count": null,
      "outputs": []
    },
    {
      "cell_type": "code",
      "metadata": {
        "id": "zYsH8F3Cg0F9"
      },
      "source": [
        "# changing the Facility_type_category to lowercase\n",
        "covid_data['Facility_type_category'] = covid_data['Facility_type_category'].str.lower() "
      ],
      "execution_count": null,
      "outputs": []
    },
    {
      "cell_type": "code",
      "metadata": {
        "id": "Az3gLnwGb244"
      },
      "source": [
        "covid_data"
      ],
      "execution_count": null,
      "outputs": []
    },
    {
      "cell_type": "markdown",
      "metadata": {
        "id": "m_4C0_QhgSaJ"
      },
      "source": [
        "# Data Analysis"
      ]
    },
    {
      "cell_type": "markdown",
      "metadata": {
        "id": "AjErBGCsyaER"
      },
      "source": [
        "number of public facilities per county"
      ]
    },
    {
      "cell_type": "code",
      "metadata": {
        "id": "7pOYNH3aFYVS"
      },
      "source": [
        "##mumber of public facilities per county.\n",
        "public=covid_data.loc[(covid_data['Ownertype']=='Ministry of Health') &(covid_data['County'])].groupby('County').Ownertype.value_counts().sort_values(ascending=False)\n",
        "#public.groupby('County').Ownertype.value_counts().sort_values(ascending=False)"
      ],
      "execution_count": null,
      "outputs": []
    },
    {
      "cell_type": "markdown",
      "metadata": {
        "id": "SPe3Dp26ggs8"
      },
      "source": [
        "# observation\n",
        "From the above it is clear that every county has more than 30 public facilities. Kitui has the highest(334) and lamu has the lowest(35)"
      ]
    },
    {
      "cell_type": "markdown",
      "metadata": {
        "id": "eUt2qGtbz6BJ"
      },
      "source": [
        " **PRIVATE FACILITIES PER COUNTY**"
      ]
    },
    {
      "cell_type": "code",
      "metadata": {
        "id": "vSV0TOu2NeyP"
      },
      "source": [
        "##number of private facilites per county.\n",
        "private=covid_data.loc[(covid_data['Ownertype']=='Private Practice') &(covid_data['County'])]\n",
        "private.groupby('County').Owner.count().sort_values(ascending=False)"
      ],
      "execution_count": null,
      "outputs": []
    },
    {
      "cell_type": "code",
      "metadata": {
        "id": "zZgcbo2p0uqh"
      },
      "source": [
        "##ICU BEDS PER COUNTYcovi\n",
        "covid.rename(columns={'Number of beds': 'no_beds'},inplace=True)\n",
        "#ovid_data.rename(columns={'Keph level' :'keph_level'},inplace=True)\n"
      ],
      "execution_count": null,
      "outputs": []
    },
    {
      "cell_type": "code",
      "metadata": {
        "id": "0wqELuUa3iwJ"
      },
      "source": [
        "from matplotlib import pyplot as plt\n",
        "covid.groupby('County').no_beds.sum()\n"
      ],
      "execution_count": null,
      "outputs": []
    },
    {
      "cell_type": "code",
      "metadata": {
        "id": "uiU-dgKe2F1l"
      },
      "source": [
        "covid"
      ],
      "execution_count": null,
      "outputs": []
    },
    {
      "cell_type": "markdown",
      "metadata": {
        "id": "3sbsU78qhKfZ"
      },
      "source": [
        "# observation\n",
        "all counties have private health facilities. Nairobi has the highest number (653) and Elgeyo marakwet has the lowest number of private facilities(4)"
      ]
    },
    {
      "cell_type": "markdown",
      "metadata": {
        "id": "m2vmwsKXzDSO"
      },
      "source": [
        "# Level 3 hospitals with no available beds"
      ]
    },
    {
      "cell_type": "code",
      "metadata": {
        "id": "V5ml_HBXjjVc"
      },
      "source": [
        "##counties that have level 3  with facilities that have no beds.\n",
        "no_beds=covid_data.loc[(covid_data['Beds_Cots']==0) &(covid_data['County']) &(covid_data['keph_level']=='Level 3')]\n",
        "no_beds\n",
        "\n"
      ],
      "execution_count": null,
      "outputs": []
    },
    {
      "cell_type": "markdown",
      "metadata": {
        "id": "jpNjsrZh84GZ"
      },
      "source": [
        "# No number of beds per keph level in in Counties"
      ]
    },
    {
      "cell_type": "code",
      "metadata": {
        "id": "WKMu8Ac51vhn"
      },
      "source": [
        "Total=covid_data[covid_data['Beds_Cots']>0]\n",
        "x=Total.groupby(['County','keph_level']).Beds_Cots.sum()\n",
        "x"
      ],
      "execution_count": null,
      "outputs": []
    },
    {
      "cell_type": "markdown",
      "metadata": {
        "id": "92TnGT_WjZdO"
      },
      "source": [
        "# Number of public facilities open at night with available beds"
      ]
    },
    {
      "cell_type": "code",
      "metadata": {
        "id": "iyjkUB78RkjG"
      },
      "source": [
        "#Number of public facilities open at night with available beds\n",
        "public=covid_data.loc[(covid_data['Ownertype']=='Ministry of Health') &(covid_data['County']) &(covid_data['Open_late_night']=='Yes')& (covid_data['Beds_Cots']>0)]\n",
        "NUMBER=[public.groupby('County').Ownertype.count().sort_values(ascending=False) "
      ],
      "execution_count": null,
      "outputs": []
    },
    {
      "cell_type": "code",
      "metadata": {
        "id": "YLZ2Qtao8Kq-"
      },
      "source": [
        ""
      ],
      "execution_count": null,
      "outputs": []
    },
    {
      "cell_type": "markdown",
      "metadata": {
        "id": "EeU6Gp6Djk5N"
      },
      "source": [
        "# observation\n",
        "of the public hospitals open at night, only 37 counties had beds to admit covid patients. Mandeta had the highest of beds at 11beds."
      ]
    },
    {
      "cell_type": "markdown",
      "metadata": {
        "id": "e2fv9z4VkMkq"
      },
      "source": [
        "# number of private facilities per county that are open at night and bed and cots greater than zero"
      ]
    },
    {
      "cell_type": "code",
      "metadata": {
        "id": "dFUNhcFXf6S8"
      },
      "source": [
        "##number of private facilities per county that are open at night and bed and cots greater than zero\n",
        "private=covid_data.loc[(covid_data['Ownertype']=='Private Practice') &(covid_data['County']) &(covid_data['Open_late_night']=='Yes')& (covid_data['Beds_Cots']>0)]\n",
        "private.groupby('County').Ownertype.count().sort_values(ascending=False)"
      ],
      "execution_count": null,
      "outputs": []
    },
    {
      "cell_type": "markdown",
      "metadata": {
        "id": "giPy5SLTkU4N"
      },
      "source": [
        "# Observation\n",
        "all counties have private facilities open at night with available beds to admit covid 19 patients"
      ]
    },
    {
      "cell_type": "markdown",
      "metadata": {
        "id": "OPRUUlb6EkBe"
      },
      "source": [
        "# Total Number of beds per county"
      ]
    },
    {
      "cell_type": "code",
      "metadata": {
        "id": "KRUw85DjmhOR"
      },
      "source": [
        "x=covid_data.groupby('County').Beds_Cots.sum() .sort_values(ascending=False)\n"
      ],
      "execution_count": null,
      "outputs": []
    },
    {
      "cell_type": "markdown",
      "metadata": {
        "id": "as4TfgwZk4EG"
      },
      "source": [
        "# Observation\n",
        "All counties have over 250 beds set aside to admit covid patients."
      ]
    },
    {
      "cell_type": "code",
      "metadata": {
        "id": "J-zJY7-SHqur"
      },
      "source": [
        "covid_data"
      ],
      "execution_count": null,
      "outputs": []
    },
    {
      "cell_type": "markdown",
      "metadata": {
        "id": "5pcRewuoPd4d"
      },
      "source": [
        "****"
      ]
    },
    {
      "cell_type": "code",
      "metadata": {
        "id": "sbUelS7TPcTh"
      },
      "source": [
        "##number of beds per level per county\n",
        "Total=covid_data[covid_data['Beds_Cots']>0]\n",
        "x=Total.groupby(['County','keph_level']).keph_level.count()\n",
        "x.head(47)"
      ],
      "execution_count": null,
      "outputs": []
    },
    {
      "cell_type": "markdown",
      "metadata": {
        "id": "a_nfdu4fTE1H"
      },
      "source": [
        "#Counties with level 5 hospital and their number"
      ]
    },
    {
      "cell_type": "code",
      "metadata": {
        "id": "f-cfoywJSXDU"
      },
      "source": [
        "Total=covid_data[covid_data['keph_level']=='Level 5']\n",
        "x=Total.groupby(['County','Officialname','keph_level']).County.count()\n",
        "x\n"
      ],
      "execution_count": null,
      "outputs": []
    },
    {
      "cell_type": "markdown",
      "metadata": {
        "id": "oTcpnq-KOZuR"
      },
      "source": [
        "# Observation\n",
        "only 14 counties have level 5 hospitals."
      ]
    },
    {
      "cell_type": "markdown",
      "metadata": {
        "id": "6QbeD_iIXxQv"
      },
      "source": [
        "# County with level 6 hospital and their number"
      ]
    },
    {
      "cell_type": "code",
      "metadata": {
        "id": "ZrN3xmUUXsdY"
      },
      "source": [
        "Total=covid_data[covid_data['keph_level']=='Level 6']\n",
        "x=Total.groupby(['County','Officialname','keph_level']).keph_level.count()\n",
        "x\n"
      ],
      "execution_count": null,
      "outputs": []
    },
    {
      "cell_type": "code",
      "metadata": {
        "id": "Bko5IFA46Qme"
      },
      "source": [
        "covid_data"
      ],
      "execution_count": null,
      "outputs": []
    },
    {
      "cell_type": "code",
      "metadata": {
        "id": "iqa96rIL6kpu"
      },
      "source": [
        ""
      ],
      "execution_count": null,
      "outputs": []
    },
    {
      "cell_type": "markdown",
      "metadata": {
        "id": "c1eCroAcOthf"
      },
      "source": [
        "# Observation\n",
        "Only 3 counties have level 6 hospitals"
      ]
    },
    {
      "cell_type": "code",
      "metadata": {
        "id": "MazOlYsnNiNy"
      },
      "source": [
        "#open on public days\n",
        "covid_data.groupby(['County','Owner'])['Open_public_holidays'].count()\n"
      ],
      "execution_count": null,
      "outputs": []
    },
    {
      "cell_type": "code",
      "metadata": {
        "id": "8d-1kIYPN9cN"
      },
      "source": [
        "covid_data.groupby(['County','Owner'])['Open_weekends'].count()"
      ],
      "execution_count": null,
      "outputs": []
    },
    {
      "cell_type": "markdown",
      "metadata": {
        "id": "ACmGaN44pDcn"
      },
      "source": [
        "number of hospitals open on public holidays per county"
      ]
    },
    {
      "cell_type": "code",
      "metadata": {
        "id": "sEsc7AddoPUw"
      },
      "source": [
        "p =covid_data.groupby('County')['Open_public_holidays'].apply(lambda x: (x=='Yes').sum()).reset_index(name='count')\n",
        "\n",
        "p.sort_values(by = 'count', ascending = False)\n"
      ],
      "execution_count": null,
      "outputs": []
    },
    {
      "cell_type": "markdown",
      "metadata": {
        "id": "-R0nqm6xqCJD"
      },
      "source": [
        "number of hospitals open on weekends per county"
      ]
    },
    {
      "cell_type": "code",
      "metadata": {
        "id": "kE1StZePozbx"
      },
      "source": [
        "p =covid_data.groupby('County')['Open_weekends'].apply(lambda x: (x=='Yes').sum()).reset_index(name='count')\n",
        "p.sort_values(by = 'count', ascending = False)\n",
        "\n"
      ],
      "execution_count": null,
      "outputs": []
    },
    {
      "cell_type": "markdown",
      "metadata": {
        "id": "AYswa4GkqNEm"
      },
      "source": [
        "# observation\n",
        "All counties have at least one hospital open on weekends."
      ]
    },
    {
      "cell_type": "code",
      "metadata": {
        "id": "APeYweW7VWcz"
      },
      "source": [
        "#Number of level 4 facilities \n",
        "level_4=covid_data.groupby('County')['keph_level'].apply(lambda x: (x=='Level 4').sum()).reset_index(name='count')\n",
        "level_4.sort_values(by = 'count', ascending = False).head()\n",
        "level_4.plot(kind = 'bar')\n"
      ],
      "execution_count": null,
      "outputs": []
    },
    {
      "cell_type": "code",
      "metadata": {
        "id": "SZ6CIxpzPaf-"
      },
      "source": [
        "# Number public of facilities open on weekends with available beds\n",
        "open_beds=covid_data.loc[(covid_data['Ownertype']=='Ministry of Health')&(covid_data['Open_weekends']==\"Yes\") &(covid_data['Beds_Cots']>0)]\n",
        "open_beds[['Officialname','County']]"
      ],
      "execution_count": null,
      "outputs": []
    },
    {
      "cell_type": "code",
      "metadata": {
        "id": "bPJzLeANwjEv"
      },
      "source": [
        "\n",
        "ngo=covid_data[covid_data['Ownertype']=='Non-Governmental Organizations']\n",
        "ngo.groupby('County').Ownertype.count().sort_values(ascending=False)\n",
        "\n"
      ],
      "execution_count": null,
      "outputs": []
    },
    {
      "cell_type": "markdown",
      "metadata": {
        "id": "V1fMygsKxftG"
      },
      "source": [
        ""
      ]
    },
    {
      "cell_type": "code",
      "metadata": {
        "id": "_km0jNqExaFH"
      },
      "source": [
        "Armed=covid_data[covid_data['Owner']=='Armed Forces']\n",
        "Armed.groupby('County').Owner.count().sort_values(ascending=False)\n"
      ],
      "execution_count": null,
      "outputs": []
    },
    {
      "cell_type": "code",
      "metadata": {
        "id": "Uo-QAtteLoh4"
      },
      "source": [
        "ICU.plot.bar(x=\"COUNTY\", y=\"ICU_BEDS\", rot=45, fontsize=15, figsize=(40,10),title=\"BEDS PER COUNTY\", color='red');\n",
        "\n",
        "plot.show(block=True);"
      ],
      "execution_count": null,
      "outputs": []
    },
    {
      "cell_type": "code",
      "metadata": {
        "id": "FYtoFPOyLx2Q"
      },
      "source": [
        "ICU"
      ],
      "execution_count": null,
      "outputs": []
    },
    {
      "cell_type": "markdown",
      "metadata": {
        "id": "oeseJSWjPigR"
      },
      "source": [
        "# SQL ANALYSIS"
      ]
    },
    {
      "cell_type": "markdown",
      "metadata": {
        "id": "VnW9G8vmPmAy"
      },
      "source": [
        "connecting to the database"
      ]
    },
    {
      "cell_type": "code",
      "metadata": {
        "id": "jBggux9bPsCG"
      },
      "source": [
        "%load_ext sql\n",
        "%sql sqlite://"
      ],
      "execution_count": null,
      "outputs": []
    },
    {
      "cell_type": "markdown",
      "metadata": {
        "id": "kph9vlj0P5VV"
      },
      "source": [
        "loading the dataset and previewing it"
      ]
    },
    {
      "cell_type": "code",
      "metadata": {
        "id": "Cb2LlLhSP7kr"
      },
      "source": [
        "with open('/content/cfafrica-_-data-team-_-outbreak-_-covid19-_-data-_-openafrica-uploads-_-kenya-hospital-ke.csv','r') as f:\n",
        "    covid_hospitals = pd.read_csv(f, index_col=0, encoding='utf-8')\n",
        "%sql DROP TABLE if EXISTS covid_hospitals;\n",
        "%sql PERSIST covid_hospitals;\n",
        "%sql SELECT * FROM covid_hospitals LIMIT 5;"
      ],
      "execution_count": null,
      "outputs": []
    },
    {
      "cell_type": "markdown",
      "metadata": {
        "id": "L3PeNZa1Qeqf"
      },
      "source": [
        "# Analysis"
      ]
    },
    {
      "cell_type": "code",
      "metadata": {
        "id": "N6fz_q13Qoxh"
      },
      "source": [
        "# number of public facilities per county\n",
        "%%sql\n",
        "SELECT COUNT(County),County from covid_hospitals\n",
        "WHERE \"Owner type\"='Ministry of Health'\n",
        "GROUP BY County "
      ],
      "execution_count": null,
      "outputs": []
    },
    {
      "cell_type": "code",
      "metadata": {
        "id": "Z4eHKnhjuyCN"
      },
      "source": [
        "##private facilities per county.\n",
        "%%sql\n",
        "SELECT COUNT(County),County from covid_hospitals\n",
        "WHERE \"Owner type\"='Private Practice'\n",
        "GROUP BY County "
      ],
      "execution_count": null,
      "outputs": []
    },
    {
      "cell_type": "code",
      "metadata": {
        "id": "Z2jqmwM2veTF"
      },
      "source": [
        "#Total number of beds per county\n",
        "%%sql\n",
        "SELECT County,SUM(\"Beds and Cots\") from covid_hospitals\n",
        "GROUP BY County "
      ],
      "execution_count": null,
      "outputs": []
    },
    {
      "cell_type": "code",
      "metadata": {
        "id": "Bg8EDqWRxNFF"
      },
      "source": [
        "#COUNITIES WITH LEVEL5 hospital\n",
        "%%sql\n",
        "SELECT County from covid_hospitals\n",
        "WHERE \"Keph Level\"='Level 5'\n",
        "GROUP BY County"
      ],
      "execution_count": null,
      "outputs": []
    },
    {
      "cell_type": "code",
      "metadata": {
        "id": "ry1eNrX81YpN"
      },
      "source": [
        "##NUMBER OF BEDS IN LEVEL 5 FACILITIES\n",
        "%%sql\n",
        "SELECT County,\"Beds and Cots\" from covid_hospitals\n",
        "WHERE  \"Keph Level\"='Level 5'\n",
        "GROUP BY County"
      ],
      "execution_count": null,
      "outputs": []
    },
    {
      "cell_type": "code",
      "metadata": {
        "id": "JCNVtJ9BSmaP"
      },
      "source": [
        "from matplotlib import pyplot as plt\n"
      ],
      "execution_count": null,
      "outputs": []
    },
    {
      "cell_type": "code",
      "metadata": {
        "id": "QZGWfwuF9EwK"
      },
      "source": [
        "%%sql\n",
        "SELECT \"Officialname\",\"Beds and Cots\" from covid_hospitals\n",
        "WHERE \"Keph Level\"= \"Level 5\" and Open_late_night='Yes'\n",
        "\n",
        "\n"
      ],
      "execution_count": null,
      "outputs": []
    }
  ]
}